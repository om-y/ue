{
  "nbformat": 4,
  "nbformat_minor": 0,
  "metadata": {
    "colab": {
      "provenance": []
    },
    "kernelspec": {
      "name": "python3",
      "display_name": "Python 3"
    },
    "language_info": {
      "name": "python"
    }
  },
  "cells": [
    {
      "cell_type": "markdown",
      "source": [
        "Task : 4 Email Spam Detection\n",
        "\n",
        "We have all been the recipient of spam emails before. Spam mail, or junk mail, is a type of email that is sent to a massive number of users at one time, frequently containing cryptic\n",
        "messages, scams, or most dangerously, phishing content.\n",
        "\n",
        "\n",
        "\n",
        "In this Project, use Python to build an email spam detector. Then, use machine learning to\n",
        "train the spam detector to recognize and classify emails into spam and non-spam. Let’s get\n",
        "started!"
      ],
      "metadata": {
        "id": "NJNPzeUStA6D"
      }
    },
    {
      "cell_type": "code",
      "execution_count": 11,
      "metadata": {
        "id": "CPyyFNzTnSXP"
      },
      "outputs": [],
      "source": [
        "import numpy as np\n",
        "import pandas as pd "
      ]
    },
    {
      "cell_type": "markdown",
      "source": [
        "Importing dataset"
      ],
      "metadata": {
        "id": "H6TwVcvRuWe0"
      }
    },
    {
      "cell_type": "code",
      "source": [
        "mail_data = pd.read_csv(\"/content/drive/MyDrive/Classroom/datasets from kaggel/mail_data - mail_data.csv\")"
      ],
      "metadata": {
        "id": "IntPel8co4DJ"
      },
      "execution_count": 3,
      "outputs": []
    },
    {
      "cell_type": "code",
      "source": [
        "mail_data.head()"
      ],
      "metadata": {
        "colab": {
          "base_uri": "https://localhost:8080/",
          "height": 206
        },
        "id": "KeIpRsgQpCwM",
        "outputId": "a82110cd-f187-477f-9276-b4ea8f6ef700"
      },
      "execution_count": 4,
      "outputs": [
        {
          "output_type": "execute_result",
          "data": {
            "text/plain": [
              "  Category                                            Message\n",
              "0      ham  Go until jurong point, crazy.. Available only ...\n",
              "1      ham                      Ok lar... Joking wif u oni...\n",
              "2     spam  Free entry in 2 a wkly comp to win FA Cup fina...\n",
              "3      ham  U dun say so early hor... U c already then say...\n",
              "4      ham  Nah I don't think he goes to usf, he lives aro..."
            ],
            "text/html": [
              "\n",
              "  <div id=\"df-1a1280cd-3218-4b58-9580-00f6d78e462d\">\n",
              "    <div class=\"colab-df-container\">\n",
              "      <div>\n",
              "<style scoped>\n",
              "    .dataframe tbody tr th:only-of-type {\n",
              "        vertical-align: middle;\n",
              "    }\n",
              "\n",
              "    .dataframe tbody tr th {\n",
              "        vertical-align: top;\n",
              "    }\n",
              "\n",
              "    .dataframe thead th {\n",
              "        text-align: right;\n",
              "    }\n",
              "</style>\n",
              "<table border=\"1\" class=\"dataframe\">\n",
              "  <thead>\n",
              "    <tr style=\"text-align: right;\">\n",
              "      <th></th>\n",
              "      <th>Category</th>\n",
              "      <th>Message</th>\n",
              "    </tr>\n",
              "  </thead>\n",
              "  <tbody>\n",
              "    <tr>\n",
              "      <th>0</th>\n",
              "      <td>ham</td>\n",
              "      <td>Go until jurong point, crazy.. Available only ...</td>\n",
              "    </tr>\n",
              "    <tr>\n",
              "      <th>1</th>\n",
              "      <td>ham</td>\n",
              "      <td>Ok lar... Joking wif u oni...</td>\n",
              "    </tr>\n",
              "    <tr>\n",
              "      <th>2</th>\n",
              "      <td>spam</td>\n",
              "      <td>Free entry in 2 a wkly comp to win FA Cup fina...</td>\n",
              "    </tr>\n",
              "    <tr>\n",
              "      <th>3</th>\n",
              "      <td>ham</td>\n",
              "      <td>U dun say so early hor... U c already then say...</td>\n",
              "    </tr>\n",
              "    <tr>\n",
              "      <th>4</th>\n",
              "      <td>ham</td>\n",
              "      <td>Nah I don't think he goes to usf, he lives aro...</td>\n",
              "    </tr>\n",
              "  </tbody>\n",
              "</table>\n",
              "</div>\n",
              "      <button class=\"colab-df-convert\" onclick=\"convertToInteractive('df-1a1280cd-3218-4b58-9580-00f6d78e462d')\"\n",
              "              title=\"Convert this dataframe to an interactive table.\"\n",
              "              style=\"display:none;\">\n",
              "        \n",
              "  <svg xmlns=\"http://www.w3.org/2000/svg\" height=\"24px\"viewBox=\"0 0 24 24\"\n",
              "       width=\"24px\">\n",
              "    <path d=\"M0 0h24v24H0V0z\" fill=\"none\"/>\n",
              "    <path d=\"M18.56 5.44l.94 2.06.94-2.06 2.06-.94-2.06-.94-.94-2.06-.94 2.06-2.06.94zm-11 1L8.5 8.5l.94-2.06 2.06-.94-2.06-.94L8.5 2.5l-.94 2.06-2.06.94zm10 10l.94 2.06.94-2.06 2.06-.94-2.06-.94-.94-2.06-.94 2.06-2.06.94z\"/><path d=\"M17.41 7.96l-1.37-1.37c-.4-.4-.92-.59-1.43-.59-.52 0-1.04.2-1.43.59L10.3 9.45l-7.72 7.72c-.78.78-.78 2.05 0 2.83L4 21.41c.39.39.9.59 1.41.59.51 0 1.02-.2 1.41-.59l7.78-7.78 2.81-2.81c.8-.78.8-2.07 0-2.86zM5.41 20L4 18.59l7.72-7.72 1.47 1.35L5.41 20z\"/>\n",
              "  </svg>\n",
              "      </button>\n",
              "      \n",
              "  <style>\n",
              "    .colab-df-container {\n",
              "      display:flex;\n",
              "      flex-wrap:wrap;\n",
              "      gap: 12px;\n",
              "    }\n",
              "\n",
              "    .colab-df-convert {\n",
              "      background-color: #E8F0FE;\n",
              "      border: none;\n",
              "      border-radius: 50%;\n",
              "      cursor: pointer;\n",
              "      display: none;\n",
              "      fill: #1967D2;\n",
              "      height: 32px;\n",
              "      padding: 0 0 0 0;\n",
              "      width: 32px;\n",
              "    }\n",
              "\n",
              "    .colab-df-convert:hover {\n",
              "      background-color: #E2EBFA;\n",
              "      box-shadow: 0px 1px 2px rgba(60, 64, 67, 0.3), 0px 1px 3px 1px rgba(60, 64, 67, 0.15);\n",
              "      fill: #174EA6;\n",
              "    }\n",
              "\n",
              "    [theme=dark] .colab-df-convert {\n",
              "      background-color: #3B4455;\n",
              "      fill: #D2E3FC;\n",
              "    }\n",
              "\n",
              "    [theme=dark] .colab-df-convert:hover {\n",
              "      background-color: #434B5C;\n",
              "      box-shadow: 0px 1px 3px 1px rgba(0, 0, 0, 0.15);\n",
              "      filter: drop-shadow(0px 1px 2px rgba(0, 0, 0, 0.3));\n",
              "      fill: #FFFFFF;\n",
              "    }\n",
              "  </style>\n",
              "\n",
              "      <script>\n",
              "        const buttonEl =\n",
              "          document.querySelector('#df-1a1280cd-3218-4b58-9580-00f6d78e462d button.colab-df-convert');\n",
              "        buttonEl.style.display =\n",
              "          google.colab.kernel.accessAllowed ? 'block' : 'none';\n",
              "\n",
              "        async function convertToInteractive(key) {\n",
              "          const element = document.querySelector('#df-1a1280cd-3218-4b58-9580-00f6d78e462d');\n",
              "          const dataTable =\n",
              "            await google.colab.kernel.invokeFunction('convertToInteractive',\n",
              "                                                     [key], {});\n",
              "          if (!dataTable) return;\n",
              "\n",
              "          const docLinkHtml = 'Like what you see? Visit the ' +\n",
              "            '<a target=\"_blank\" href=https://colab.research.google.com/notebooks/data_table.ipynb>data table notebook</a>'\n",
              "            + ' to learn more about interactive tables.';\n",
              "          element.innerHTML = '';\n",
              "          dataTable['output_type'] = 'display_data';\n",
              "          await google.colab.output.renderOutput(dataTable, element);\n",
              "          const docLink = document.createElement('div');\n",
              "          docLink.innerHTML = docLinkHtml;\n",
              "          element.appendChild(docLink);\n",
              "        }\n",
              "      </script>\n",
              "    </div>\n",
              "  </div>\n",
              "  "
            ]
          },
          "metadata": {},
          "execution_count": 4
        }
      ]
    },
    {
      "cell_type": "code",
      "source": [
        "mail_data[\"Category\"].value_counts()"
      ],
      "metadata": {
        "colab": {
          "base_uri": "https://localhost:8080/"
        },
        "id": "pLpov2UW1Tez",
        "outputId": "0abe250e-71c3-4e2d-f92c-be7a3a5fcd8c"
      },
      "execution_count": 5,
      "outputs": [
        {
          "output_type": "execute_result",
          "data": {
            "text/plain": [
              "ham     4825\n",
              "spam     747\n",
              "Name: Category, dtype: int64"
            ]
          },
          "metadata": {},
          "execution_count": 5
        }
      ]
    },
    {
      "cell_type": "code",
      "source": [
        "mail_data.info()"
      ],
      "metadata": {
        "colab": {
          "base_uri": "https://localhost:8080/"
        },
        "id": "y_4725nzpEgq",
        "outputId": "6de196de-d60e-4516-f0fe-aa6b19e82fda"
      },
      "execution_count": 6,
      "outputs": [
        {
          "output_type": "stream",
          "name": "stdout",
          "text": [
            "<class 'pandas.core.frame.DataFrame'>\n",
            "RangeIndex: 5572 entries, 0 to 5571\n",
            "Data columns (total 2 columns):\n",
            " #   Column    Non-Null Count  Dtype \n",
            "---  ------    --------------  ----- \n",
            " 0   Category  5572 non-null   object\n",
            " 1   Message   5572 non-null   object\n",
            "dtypes: object(2)\n",
            "memory usage: 87.2+ KB\n"
          ]
        }
      ]
    },
    {
      "cell_type": "code",
      "source": [
        "mail_data[\"Category\"].replace({\"ham\":1 , \"spam\":0},inplace=True)"
      ],
      "metadata": {
        "id": "Ci16lvNspuW_"
      },
      "execution_count": 7,
      "outputs": []
    },
    {
      "cell_type": "code",
      "source": [
        "mail_data[\"Category\"]"
      ],
      "metadata": {
        "colab": {
          "base_uri": "https://localhost:8080/"
        },
        "id": "zXR2vNBk08wy",
        "outputId": "5d15f25a-dae7-4ca6-c72f-a984bee4d7dc"
      },
      "execution_count": 8,
      "outputs": [
        {
          "output_type": "execute_result",
          "data": {
            "text/plain": [
              "0       1\n",
              "1       1\n",
              "2       0\n",
              "3       1\n",
              "4       1\n",
              "       ..\n",
              "5567    0\n",
              "5568    1\n",
              "5569    1\n",
              "5570    1\n",
              "5571    1\n",
              "Name: Category, Length: 5572, dtype: int64"
            ]
          },
          "metadata": {},
          "execution_count": 8
        }
      ]
    },
    {
      "cell_type": "code",
      "source": [
        "x = mail_data[\"Message\"]\n",
        "y = mail_data[\"Category\"]"
      ],
      "metadata": {
        "id": "7gWUCE6Lzz3q"
      },
      "execution_count": 9,
      "outputs": []
    },
    {
      "cell_type": "code",
      "source": [
        "x"
      ],
      "metadata": {
        "colab": {
          "base_uri": "https://localhost:8080/"
        },
        "id": "V_Qezc7pynTA",
        "outputId": "7129306b-e366-46bb-ce37-26cc4764c8f0"
      },
      "execution_count": 20,
      "outputs": [
        {
          "output_type": "execute_result",
          "data": {
            "text/plain": [
              "0       Go until jurong point, crazy.. Available only ...\n",
              "1                           Ok lar... Joking wif u oni...\n",
              "2       Free entry in 2 a wkly comp to win FA Cup fina...\n",
              "3       U dun say so early hor... U c already then say...\n",
              "4       Nah I don't think he goes to usf, he lives aro...\n",
              "                              ...                        \n",
              "5567    This is the 2nd time we have tried 2 contact u...\n",
              "5568                 Will ü b going to esplanade fr home?\n",
              "5569    Pity, * was in mood for that. So...any other s...\n",
              "5570    The guy did some bitching but I acted like i'd...\n",
              "5571                           Rofl. Its true to its name\n",
              "Name: Message, Length: 5572, dtype: object"
            ]
          },
          "metadata": {},
          "execution_count": 20
        }
      ]
    },
    {
      "cell_type": "markdown",
      "source": [
        "feature extraction : it convert words to numbers form"
      ],
      "metadata": {
        "id": "psqWiW8n2Eie"
      }
    },
    {
      "cell_type": "code",
      "source": [
        "# how to claculate  TfidfVectorizer number\n",
        "# Tf(Term Frequency) = (no. of times term word appears in a documents)/(no. of tesms in documents)\n",
        "# idf(Inverse Documents Frequency) = log(N/n) , where N is the no. of documents and n is the no. of documents a term word has appeared in\n",
        "# Answer = Tf x idf"
      ],
      "metadata": {
        "id": "ZG1F5ifMB9cY"
      },
      "execution_count": 10,
      "outputs": []
    },
    {
      "cell_type": "code",
      "source": [
        "from sklearn.feature_extraction.text import TfidfVectorizer \n",
        "feature_ex = TfidfVectorizer(min_df =1 , stop_words=\"english\" , lowercase =True)\n",
        "# min_df means the words repeted it give same number\n",
        "# it egnore words that present in stop_words=\"english\" because the words of commenly used\n"
      ],
      "metadata": {
        "id": "bIRjv6qQ2HfP"
      },
      "execution_count": 12,
      "outputs": []
    },
    {
      "cell_type": "code",
      "source": [
        "x_feature = feature_ex.fit_transform(x)\n",
        "print(x_feature)"
      ],
      "metadata": {
        "id": "69Qdgsyw387v",
        "colab": {
          "base_uri": "https://localhost:8080/"
        },
        "outputId": "6877d88c-a6cd-46a0-9271-b172990c65a4"
      },
      "execution_count": 13,
      "outputs": [
        {
          "output_type": "stream",
          "name": "stdout",
          "text": [
            "  (0, 8079)\t0.1961033223643189\n",
            "  (0, 1061)\t0.35097479377088364\n",
            "  (0, 3511)\t0.16453831818791093\n",
            "  (0, 2003)\t0.29650492406235857\n",
            "  (0, 1713)\t0.3350433781715565\n",
            "  (0, 4370)\t0.29650492406235857\n",
            "  (0, 8281)\t0.23740715800944148\n",
            "  (0, 3551)\t0.19387866945820545\n",
            "  (0, 1715)\t0.29650492406235857\n",
            "  (0, 1281)\t0.26251769953088055\n",
            "  (0, 2278)\t0.27180581777101714\n",
            "  (0, 5775)\t0.27451666535585145\n",
            "  (0, 4244)\t0.35097479377088364\n",
            "  (1, 5399)\t0.5466243141314314\n",
            "  (1, 8187)\t0.43162957585464123\n",
            "  (1, 4212)\t0.5236804332035243\n",
            "  (1, 4406)\t0.4083258549263009\n",
            "  (1, 5373)\t0.2718944069420321\n",
            "  (2, 77)\t0.23775471426296338\n",
            "  (2, 1138)\t0.1708958200698438\n",
            "  (2, 6100)\t0.1708958200698438\n",
            "  (2, 7750)\t0.12585247610650566\n",
            "  (2, 7073)\t0.19910160498748308\n",
            "  (2, 6048)\t0.1809617113309815\n",
            "  (2, 6154)\t0.16925521015250053\n",
            "  :\t:\n",
            "  (5567, 464)\t0.2345392769367673\n",
            "  (5567, 5146)\t0.2445509910362817\n",
            "  (5567, 8256)\t0.1919079652601193\n",
            "  (5567, 2009)\t0.18662411374983587\n",
            "  (5567, 5930)\t0.1961944081157334\n",
            "  (5567, 6100)\t0.23094798261273555\n",
            "  (5568, 2917)\t0.6485991737677518\n",
            "  (5568, 3263)\t0.5597098620657655\n",
            "  (5568, 3480)\t0.3642369776828009\n",
            "  (5568, 3809)\t0.3652059777476414\n",
            "  (5569, 7213)\t0.6095307789831879\n",
            "  (5569, 5707)\t0.6095307789831879\n",
            "  (5569, 5018)\t0.5068968918274174\n",
            "  (5570, 1511)\t0.42657930865550353\n",
            "  (5570, 908)\t0.40721605986134385\n",
            "  (5570, 4063)\t0.35475111861632075\n",
            "  (5570, 3605)\t0.30408849117263737\n",
            "  (5570, 1749)\t0.35475111861632075\n",
            "  (5570, 3388)\t0.3451679596114425\n",
            "  (5570, 2542)\t0.23105123281877282\n",
            "  (5570, 4508)\t0.19998200231369734\n",
            "  (5570, 8125)\t0.23564264513684635\n",
            "  (5570, 3276)\t0.19998200231369734\n",
            "  (5571, 6362)\t0.7963273037972378\n",
            "  (5571, 7705)\t0.6048659564126764\n"
          ]
        }
      ]
    },
    {
      "cell_type": "code",
      "source": [
        "from sklearn.model_selection import train_test_split\n",
        "x_train , x_test ,y_train ,y_test = train_test_split(x_feature ,y,test_size =0.2 , random_state=1)"
      ],
      "metadata": {
        "id": "dl9ifUES380Y"
      },
      "execution_count": 14,
      "outputs": []
    },
    {
      "cell_type": "code",
      "source": [
        "print(x_train)"
      ],
      "metadata": {
        "id": "6H_h-UV938ud",
        "colab": {
          "base_uri": "https://localhost:8080/"
        },
        "outputId": "433cbec9-55fe-4477-9528-c19be9d008f8"
      },
      "execution_count": 15,
      "outputs": [
        {
          "output_type": "stream",
          "name": "stdout",
          "text": [
            "  (0, 4283)\t0.48487282510615526\n",
            "  (0, 4318)\t0.3687065678122346\n",
            "  (0, 4914)\t0.3196112164370596\n",
            "  (0, 6702)\t0.41687082226677796\n",
            "  (0, 3757)\t0.26217469882512107\n",
            "  (0, 7603)\t0.35988477711192857\n",
            "  (0, 3085)\t0.3030346059192575\n",
            "  (0, 2659)\t0.250875667035199\n",
            "  (1, 4911)\t0.6638978749522264\n",
            "  (1, 2104)\t0.5120835941624456\n",
            "  (1, 3809)\t0.5449862422333149\n",
            "  (2, 4829)\t0.5403808849166483\n",
            "  (2, 7491)\t0.40108425189883035\n",
            "  (2, 3606)\t0.3622548138445088\n",
            "  (2, 7071)\t0.44301671673219123\n",
            "  (2, 6440)\t0.3164678124552665\n",
            "  (2, 3429)\t0.3456525485477342\n",
            "  (3, 3266)\t0.3069156818984929\n",
            "  (3, 6280)\t0.3069156818984929\n",
            "  (3, 4507)\t0.26916815666401295\n",
            "  (3, 921)\t0.25523666822365576\n",
            "  (3, 7355)\t0.26387165057473\n",
            "  (3, 1907)\t0.26387165057473\n",
            "  (3, 1329)\t0.21059424274191801\n",
            "  (3, 1899)\t0.2229984007066677\n",
            "  :\t:\n",
            "  (4454, 456)\t0.32210494875111606\n",
            "  (4454, 5177)\t0.2807333007363342\n",
            "  (4454, 8356)\t0.22878793693645458\n",
            "  (4454, 4553)\t0.2501093736375467\n",
            "  (4454, 7286)\t0.2416824890581772\n",
            "  (4455, 5614)\t0.29735592189188464\n",
            "  (4455, 7495)\t0.3223712820281242\n",
            "  (4455, 6151)\t0.28930277466030374\n",
            "  (4455, 421)\t0.272340561755645\n",
            "  (4455, 6452)\t0.2827228742701496\n",
            "  (4455, 307)\t0.2326921539976704\n",
            "  (4455, 3182)\t0.2827228742701496\n",
            "  (4455, 6618)\t0.22980344981637987\n",
            "  (4455, 975)\t0.25481880995261946\n",
            "  (4455, 4205)\t0.22712892748636884\n",
            "  (4455, 367)\t0.2062035470200041\n",
            "  (4455, 5053)\t0.1787464176529693\n",
            "  (4455, 4246)\t0.13456109527462448\n",
            "  (4455, 4847)\t0.18879301113246533\n",
            "  (4455, 2402)\t0.2375112400008734\n",
            "  (4455, 6256)\t0.17009120673827066\n",
            "  (4455, 7584)\t0.1642259739791058\n",
            "  (4455, 7433)\t0.16099191275072788\n",
            "  (4456, 1921)\t0.709462136182406\n",
            "  (4456, 6853)\t0.7047435542972332\n"
          ]
        }
      ]
    },
    {
      "cell_type": "markdown",
      "source": [
        "Importing model"
      ],
      "metadata": {
        "id": "RR8ZDe9_7YEq"
      }
    },
    {
      "cell_type": "code",
      "source": [
        "from sklearn.linear_model import LogisticRegression\n",
        "model = LogisticRegression()\n",
        "model.fit(x_train , y_train)"
      ],
      "metadata": {
        "colab": {
          "base_uri": "https://localhost:8080/",
          "height": 74
        },
        "id": "hhT0zbaw38mP",
        "outputId": "9808c023-af88-41b6-d112-243a510647d8"
      },
      "execution_count": 16,
      "outputs": [
        {
          "output_type": "execute_result",
          "data": {
            "text/plain": [
              "LogisticRegression()"
            ],
            "text/html": [
              "<style>#sk-container-id-1 {color: black;background-color: white;}#sk-container-id-1 pre{padding: 0;}#sk-container-id-1 div.sk-toggleable {background-color: white;}#sk-container-id-1 label.sk-toggleable__label {cursor: pointer;display: block;width: 100%;margin-bottom: 0;padding: 0.3em;box-sizing: border-box;text-align: center;}#sk-container-id-1 label.sk-toggleable__label-arrow:before {content: \"▸\";float: left;margin-right: 0.25em;color: #696969;}#sk-container-id-1 label.sk-toggleable__label-arrow:hover:before {color: black;}#sk-container-id-1 div.sk-estimator:hover label.sk-toggleable__label-arrow:before {color: black;}#sk-container-id-1 div.sk-toggleable__content {max-height: 0;max-width: 0;overflow: hidden;text-align: left;background-color: #f0f8ff;}#sk-container-id-1 div.sk-toggleable__content pre {margin: 0.2em;color: black;border-radius: 0.25em;background-color: #f0f8ff;}#sk-container-id-1 input.sk-toggleable__control:checked~div.sk-toggleable__content {max-height: 200px;max-width: 100%;overflow: auto;}#sk-container-id-1 input.sk-toggleable__control:checked~label.sk-toggleable__label-arrow:before {content: \"▾\";}#sk-container-id-1 div.sk-estimator input.sk-toggleable__control:checked~label.sk-toggleable__label {background-color: #d4ebff;}#sk-container-id-1 div.sk-label input.sk-toggleable__control:checked~label.sk-toggleable__label {background-color: #d4ebff;}#sk-container-id-1 input.sk-hidden--visually {border: 0;clip: rect(1px 1px 1px 1px);clip: rect(1px, 1px, 1px, 1px);height: 1px;margin: -1px;overflow: hidden;padding: 0;position: absolute;width: 1px;}#sk-container-id-1 div.sk-estimator {font-family: monospace;background-color: #f0f8ff;border: 1px dotted black;border-radius: 0.25em;box-sizing: border-box;margin-bottom: 0.5em;}#sk-container-id-1 div.sk-estimator:hover {background-color: #d4ebff;}#sk-container-id-1 div.sk-parallel-item::after {content: \"\";width: 100%;border-bottom: 1px solid gray;flex-grow: 1;}#sk-container-id-1 div.sk-label:hover label.sk-toggleable__label {background-color: #d4ebff;}#sk-container-id-1 div.sk-serial::before {content: \"\";position: absolute;border-left: 1px solid gray;box-sizing: border-box;top: 0;bottom: 0;left: 50%;z-index: 0;}#sk-container-id-1 div.sk-serial {display: flex;flex-direction: column;align-items: center;background-color: white;padding-right: 0.2em;padding-left: 0.2em;position: relative;}#sk-container-id-1 div.sk-item {position: relative;z-index: 1;}#sk-container-id-1 div.sk-parallel {display: flex;align-items: stretch;justify-content: center;background-color: white;position: relative;}#sk-container-id-1 div.sk-item::before, #sk-container-id-1 div.sk-parallel-item::before {content: \"\";position: absolute;border-left: 1px solid gray;box-sizing: border-box;top: 0;bottom: 0;left: 50%;z-index: -1;}#sk-container-id-1 div.sk-parallel-item {display: flex;flex-direction: column;z-index: 1;position: relative;background-color: white;}#sk-container-id-1 div.sk-parallel-item:first-child::after {align-self: flex-end;width: 50%;}#sk-container-id-1 div.sk-parallel-item:last-child::after {align-self: flex-start;width: 50%;}#sk-container-id-1 div.sk-parallel-item:only-child::after {width: 0;}#sk-container-id-1 div.sk-dashed-wrapped {border: 1px dashed gray;margin: 0 0.4em 0.5em 0.4em;box-sizing: border-box;padding-bottom: 0.4em;background-color: white;}#sk-container-id-1 div.sk-label label {font-family: monospace;font-weight: bold;display: inline-block;line-height: 1.2em;}#sk-container-id-1 div.sk-label-container {text-align: center;}#sk-container-id-1 div.sk-container {/* jupyter's `normalize.less` sets `[hidden] { display: none; }` but bootstrap.min.css set `[hidden] { display: none !important; }` so we also need the `!important` here to be able to override the default hidden behavior on the sphinx rendered scikit-learn.org. See: https://github.com/scikit-learn/scikit-learn/issues/21755 */display: inline-block !important;position: relative;}#sk-container-id-1 div.sk-text-repr-fallback {display: none;}</style><div id=\"sk-container-id-1\" class=\"sk-top-container\"><div class=\"sk-text-repr-fallback\"><pre>LogisticRegression()</pre><b>In a Jupyter environment, please rerun this cell to show the HTML representation or trust the notebook. <br />On GitHub, the HTML representation is unable to render, please try loading this page with nbviewer.org.</b></div><div class=\"sk-container\" hidden><div class=\"sk-item\"><div class=\"sk-estimator sk-toggleable\"><input class=\"sk-toggleable__control sk-hidden--visually\" id=\"sk-estimator-id-1\" type=\"checkbox\" checked><label for=\"sk-estimator-id-1\" class=\"sk-toggleable__label sk-toggleable__label-arrow\">LogisticRegression</label><div class=\"sk-toggleable__content\"><pre>LogisticRegression()</pre></div></div></div></div></div>"
            ]
          },
          "metadata": {},
          "execution_count": 16
        }
      ]
    },
    {
      "cell_type": "code",
      "source": [
        "pred = model.predict(x_test)\n",
        "pred"
      ],
      "metadata": {
        "id": "6YrcgMC_38d3",
        "colab": {
          "base_uri": "https://localhost:8080/"
        },
        "outputId": "78aa1be9-7bcd-4c1c-d308-5768fc40b45b"
      },
      "execution_count": 26,
      "outputs": [
        {
          "output_type": "execute_result",
          "data": {
            "text/plain": [
              "array([1, 1, 1, ..., 1, 1, 1])"
            ]
          },
          "metadata": {},
          "execution_count": 26
        }
      ]
    },
    {
      "cell_type": "markdown",
      "source": [
        "Evaluating model"
      ],
      "metadata": {
        "id": "zdl7efBFwBw8"
      }
    },
    {
      "cell_type": "code",
      "source": [
        "from sklearn.metrics import accuracy_score\n",
        "accuracy_score(y_test ,pred)"
      ],
      "metadata": {
        "colab": {
          "base_uri": "https://localhost:8080/"
        },
        "id": "lRLSTqy28PIM",
        "outputId": "99bb9f71-6ecf-4544-c8f8-efad5bdb8749"
      },
      "execution_count": 18,
      "outputs": [
        {
          "output_type": "execute_result",
          "data": {
            "text/plain": [
              "0.9614349775784753"
            ]
          },
          "metadata": {},
          "execution_count": 18
        }
      ]
    },
    {
      "cell_type": "code",
      "source": [
        "spam = \"Congratulations! You’ve won a free iPhone 12. To claim your prize, please follow the link below: [link]\" #This message is taken from Google\n",
        "ex = feature_ex.transform([spam])\n",
        "print(ex)"
      ],
      "metadata": {
        "colab": {
          "base_uri": "https://localhost:8080/"
        },
        "id": "7wc-bZYqwf2r",
        "outputId": "d5e11f88-1bdc-49c0-e4e8-c6be93c3b2a1"
      },
      "execution_count": 25,
      "outputs": [
        {
          "output_type": "stream",
          "name": "stdout",
          "text": [
            "  (0, 8256)\t0.21220397359411253\n",
            "  (0, 7930)\t0.2108811615346065\n",
            "  (0, 5930)\t0.21694374666873453\n",
            "  (0, 4530)\t0.6022931920057699\n",
            "  (0, 4094)\t0.37217506187851357\n",
            "  (0, 3276)\t0.17447708450809107\n",
            "  (0, 3208)\t0.343295029054107\n",
            "  (0, 2171)\t0.2910985595797305\n",
            "  (0, 2009)\t0.2063613068510015\n",
            "  (0, 321)\t0.29418627417826754\n"
          ]
        }
      ]
    },
    {
      "cell_type": "code",
      "source": [
        "m = model.predict(ex)\n",
        "if m==0:\n",
        "  print(f\"message is Spam\")\n",
        "else:\n",
        "  print(f\"message is Not Spam\")"
      ],
      "metadata": {
        "colab": {
          "base_uri": "https://localhost:8080/"
        },
        "id": "a7RQG5_2wfk-",
        "outputId": "a826b430-5403-4f5f-a7cb-3adf1546ec14"
      },
      "execution_count": 28,
      "outputs": [
        {
          "output_type": "stream",
          "name": "stdout",
          "text": [
            "massage is Spam\n"
          ]
        }
      ]
    }
  ]
}